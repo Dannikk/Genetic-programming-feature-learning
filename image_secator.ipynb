{
 "cells": [
  {
   "cell_type": "code",
   "execution_count": 1,
   "id": "0a056e00",
   "metadata": {},
   "outputs": [],
   "source": [
    "import matplotlib.pyplot as plt\n",
    "import numpy as np\n",
    "from imageio import imread, imsave\n",
    "from skimage.color import rgb2gray\n",
    "import cv2\n",
    "import os\n",
    "import numpy as np"
   ]
  },
  {
   "cell_type": "code",
   "execution_count": 2,
   "id": "93e900f3",
   "metadata": {},
   "outputs": [],
   "source": [
    "def walker(source = \"./images\"):\n",
    "    for link, dirs, files in list(os.walk(source)):\n",
    "        for file in files:\n",
    "            yield link + '//' + file"
   ]
  },
  {
   "cell_type": "code",
   "execution_count": 4,
   "id": "2bca7f98",
   "metadata": {},
   "outputs": [
    {
     "name": "stderr",
     "output_type": "stream",
     "text": [
      "Lossy conversion from float64 to uint8. Range [0, 1]. Convert image to uint8 prior to saving to suppress this warning.\n"
     ]
    },
    {
     "name": "stdout",
     "output_type": "stream",
     "text": [
      "./images//Fas3_1_1.tif\n",
      "Fas3_1_1\n",
      "\t (2048, 2048)\n",
      "\t\t 0.2456555534811581\n",
      "nice_images/Fas3_1_1_1_2.\n",
      "\t\t"
     ]
    },
    {
     "name": "stderr",
     "output_type": "stream",
     "text": [
      "Lossy conversion from float64 to uint8. Range [0, 1]. Convert image to uint8 prior to saving to suppress this warning.\n",
      "Lossy conversion from float64 to uint8. Range [0, 1]. Convert image to uint8 prior to saving to suppress this warning.\n",
      "Lossy conversion from float64 to uint8. Range [0, 1]. Convert image to uint8 prior to saving to suppress this warning.\n",
      "Lossy conversion from float64 to uint8. Range [0, 1]. Convert image to uint8 prior to saving to suppress this warning.\n",
      "Lossy conversion from float64 to uint8. Range [0, 1]. Convert image to uint8 prior to saving to suppress this warning.\n",
      "Lossy conversion from float64 to uint8. Range [0, 1]. Convert image to uint8 prior to saving to suppress this warning.\n",
      "Lossy conversion from float64 to uint8. Range [0, 1]. Convert image to uint8 prior to saving to suppress this warning.\n",
      "Lossy conversion from float64 to uint8. Range [0, 1]. Convert image to uint8 prior to saving to suppress this warning.\n",
      "Lossy conversion from float64 to uint8. Range [0, 1]. Convert image to uint8 prior to saving to suppress this warning.\n"
     ]
    },
    {
     "name": "stdout",
     "output_type": "stream",
     "text": [
      " 0.19520574831495097\n",
      "nice_images/Fas3_1_1_1_3.\n",
      "\t\t 0.1959616268382353\n",
      "nice_images/Fas3_1_1_2_1.\n",
      "\t\t 0.20849525601256128\n",
      "nice_images/Fas3_1_1_2_2.\n",
      "\t\t 0.19812364765242038\n",
      "nice_images/Fas3_1_1_2_3.\n",
      "\t\t 0.14612438725490196\n",
      "nice_images/Fas3_1_1_2_4.\n",
      "\t\t 0.19896611232383576\n",
      "nice_images/Fas3_1_1_3_1.\n",
      "\t\t 0.20245714374617033\n",
      "nice_images/Fas3_1_1_3_2.\n",
      "\t\t 0.215062100279565\n",
      "nice_images/Fas3_1_1_3_3.\n",
      "\t\t 0.21557665058210784\n",
      "nice_images/Fas3_1_1_3_4.\n",
      "\t\t"
     ]
    },
    {
     "name": "stderr",
     "output_type": "stream",
     "text": [
      "Lossy conversion from float64 to uint8. Range [0, 1]. Convert image to uint8 prior to saving to suppress this warning.\n",
      "Lossy conversion from float64 to uint8. Range [0, 1]. Convert image to uint8 prior to saving to suppress this warning.\n",
      "Lossy conversion from float64 to uint8. Range [0, 1]. Convert image to uint8 prior to saving to suppress this warning.\n",
      "Lossy conversion from float64 to uint8. Range [0, 1]. Convert image to uint8 prior to saving to suppress this warning.\n",
      "Lossy conversion from float64 to uint8. Range [0, 1]. Convert image to uint8 prior to saving to suppress this warning.\n",
      "Lossy conversion from float64 to uint8. Range [0, 1]. Convert image to uint8 prior to saving to suppress this warning.\n",
      "Lossy conversion from float64 to uint8. Range [0, 1]. Convert image to uint8 prior to saving to suppress this warning.\n"
     ]
    },
    {
     "name": "stdout",
     "output_type": "stream",
     "text": [
      " 0.16987747491574753\n",
      "nice_images/Fas3_1_1_3_5.\n",
      "\t\t 0.25018902946920957\n",
      "nice_images/Fas3_1_1_4_1.\n",
      "\t\t 0.2914574716605392\n",
      "nice_images/Fas3_1_1_4_2.\n",
      "\t\t 0.30265640557981005\n",
      "nice_images/Fas3_1_1_4_3.\n",
      "\t\t 0.3071764179304534\n",
      "nice_images/Fas3_1_1_4_4.\n",
      "\t\t 0.20685113645067404\n",
      "nice_images/Fas3_1_1_4_5.\n",
      "\t\t 0.14410382439108457\n",
      "nice_images/Fas3_1_1_4_6.\n",
      "\t\t"
     ]
    },
    {
     "name": "stderr",
     "output_type": "stream",
     "text": [
      "Lossy conversion from float64 to uint8. Range [0, 1]. Convert image to uint8 prior to saving to suppress this warning.\n",
      "Lossy conversion from float64 to uint8. Range [0, 1]. Convert image to uint8 prior to saving to suppress this warning.\n",
      "Lossy conversion from float64 to uint8. Range [0, 1]. Convert image to uint8 prior to saving to suppress this warning.\n",
      "Lossy conversion from float64 to uint8. Range [0, 1]. Convert image to uint8 prior to saving to suppress this warning.\n"
     ]
    },
    {
     "name": "stdout",
     "output_type": "stream",
     "text": [
      " 0.20722817813648894\n",
      "nice_images/Fas3_1_1_5_4.\n",
      "\t\t 0.2808162315219056\n",
      "nice_images/Fas3_1_1_5_5.\n",
      "\t\t 0.18901588589537377\n",
      "nice_images/Fas3_1_1_5_6.\n",
      "\t\t 0.1907659792432598\n",
      "nice_images/Fas3_1_1_5_7.\n",
      "./images//Fas3_1_2.tif\n",
      "Fas3_1_2\n"
     ]
    },
    {
     "name": "stderr",
     "output_type": "stream",
     "text": [
      "Lossy conversion from float64 to uint8. Range [0, 1]. Convert image to uint8 prior to saving to suppress this warning.\n",
      "Lossy conversion from float64 to uint8. Range [0, 1]. Convert image to uint8 prior to saving to suppress this warning.\n",
      "Lossy conversion from float64 to uint8. Range [0, 1]. Convert image to uint8 prior to saving to suppress this warning.\n",
      "Lossy conversion from float64 to uint8. Range [0, 1]. Convert image to uint8 prior to saving to suppress this warning.\n",
      "Lossy conversion from float64 to uint8. Range [0, 1]. Convert image to uint8 prior to saving to suppress this warning.\n",
      "Lossy conversion from float64 to uint8. Range [0, 1]. Convert image to uint8 prior to saving to suppress this warning.\n",
      "Lossy conversion from float64 to uint8. Range [0, 1]. Convert image to uint8 prior to saving to suppress this warning.\n",
      "Lossy conversion from float64 to uint8. Range [0, 1]. Convert image to uint8 prior to saving to suppress this warning.\n",
      "Lossy conversion from float64 to uint8. Range [0, 1]. Convert image to uint8 prior to saving to suppress this warning.\n"
     ]
    },
    {
     "name": "stdout",
     "output_type": "stream",
     "text": [
      "\t (2048, 2048)\n",
      "\t\t 0.29170382630591296\n",
      "nice_images/Fas3_1_2_1_2.\n",
      "\t\t 0.20199590944776347\n",
      "nice_images/Fas3_1_2_1_3.\n",
      "\t\t 0.25606276568244485\n",
      "nice_images/Fas3_1_2_2_1.\n",
      "\t\t 0.29004031910615813\n",
      "nice_images/Fas3_1_2_2_2.\n",
      "\t\t 0.233712828393076\n",
      "nice_images/Fas3_1_2_2_3.\n",
      "\t\t 0.15824890136718747\n",
      "nice_images/Fas3_1_2_2_4.\n",
      "\t\t 0.2803012623506434\n",
      "nice_images/Fas3_1_2_3_1.\n",
      "\t\t 0.26381572648590684\n",
      "nice_images/Fas3_1_2_3_2.\n",
      "\t\t 0.2443115234375\n",
      "nice_images/Fas3_1_2_3_3.\n",
      "\t\t"
     ]
    },
    {
     "name": "stderr",
     "output_type": "stream",
     "text": [
      "Lossy conversion from float64 to uint8. Range [0, 1]. Convert image to uint8 prior to saving to suppress this warning.\n",
      "Lossy conversion from float64 to uint8. Range [0, 1]. Convert image to uint8 prior to saving to suppress this warning.\n",
      "Lossy conversion from float64 to uint8. Range [0, 1]. Convert image to uint8 prior to saving to suppress this warning.\n",
      "Lossy conversion from float64 to uint8. Range [0, 1]. Convert image to uint8 prior to saving to suppress this warning.\n",
      "Lossy conversion from float64 to uint8. Range [0, 1]. Convert image to uint8 prior to saving to suppress this warning.\n",
      "Lossy conversion from float64 to uint8. Range [0, 1]. Convert image to uint8 prior to saving to suppress this warning.\n",
      "Lossy conversion from float64 to uint8. Range [0, 1]. Convert image to uint8 prior to saving to suppress this warning.\n",
      "Lossy conversion from float64 to uint8. Range [0, 1]. Convert image to uint8 prior to saving to suppress this warning.\n"
     ]
    },
    {
     "name": "stdout",
     "output_type": "stream",
     "text": [
      " 0.21469247855392154\n",
      "nice_images/Fas3_1_2_3_4.\n",
      "\t\t 0.17731496773514094\n",
      "nice_images/Fas3_1_2_3_5.\n",
      "\t\t 0.2796417236328125\n",
      "nice_images/Fas3_1_2_4_1.\n",
      "\t\t 0.3006163952397365\n",
      "nice_images/Fas3_1_2_4_2.\n",
      "\t\t 0.2800258860868566\n",
      "nice_images/Fas3_1_2_4_3.\n",
      "\t\t 0.3160146077473958\n",
      "nice_images/Fas3_1_2_4_4.\n",
      "\t\t 0.22673656987208946\n",
      "nice_images/Fas3_1_2_4_5.\n",
      "\t\t 0.16790597953048408\n",
      "nice_images/Fas3_1_2_4_6.\n"
     ]
    },
    {
     "name": "stderr",
     "output_type": "stream",
     "text": [
      "Lossy conversion from float64 to uint8. Range [0, 1]. Convert image to uint8 prior to saving to suppress this warning.\n",
      "Lossy conversion from float64 to uint8. Range [0, 1]. Convert image to uint8 prior to saving to suppress this warning.\n",
      "Lossy conversion from float64 to uint8. Range [0, 1]. Convert image to uint8 prior to saving to suppress this warning.\n",
      "Lossy conversion from float64 to uint8. Range [0, 1]. Convert image to uint8 prior to saving to suppress this warning.\n"
     ]
    },
    {
     "name": "stdout",
     "output_type": "stream",
     "text": [
      "\t\t 0.2081060671338848\n",
      "nice_images/Fas3_1_2_5_4.\n",
      "\t\t 0.2958844353170956\n",
      "nice_images/Fas3_1_2_5_5.\n",
      "\t\t 0.2242711684283088\n",
      "nice_images/Fas3_1_2_5_6.\n",
      "\t\t 0.22623476514629287\n",
      "nice_images/Fas3_1_2_5_7.\n",
      "./images//Fas3_1_3.tif\n",
      "Fas3_1_3\n",
      "\t"
     ]
    },
    {
     "name": "stderr",
     "output_type": "stream",
     "text": [
      "Lossy conversion from float64 to uint8. Range [0, 1]. Convert image to uint8 prior to saving to suppress this warning.\n",
      "Lossy conversion from float64 to uint8. Range [0, 1]. Convert image to uint8 prior to saving to suppress this warning.\n",
      "Lossy conversion from float64 to uint8. Range [0, 1]. Convert image to uint8 prior to saving to suppress this warning.\n",
      "Lossy conversion from float64 to uint8. Range [0, 1]. Convert image to uint8 prior to saving to suppress this warning.\n",
      "Lossy conversion from float64 to uint8. Range [0, 1]. Convert image to uint8 prior to saving to suppress this warning.\n",
      "Lossy conversion from float64 to uint8. Range [0, 1]. Convert image to uint8 prior to saving to suppress this warning.\n",
      "Lossy conversion from float64 to uint8. Range [0, 1]. Convert image to uint8 prior to saving to suppress this warning.\n",
      "Lossy conversion from float64 to uint8. Range [0, 1]. Convert image to uint8 prior to saving to suppress this warning.\n",
      "Lossy conversion from float64 to uint8. Range [0, 1]. Convert image to uint8 prior to saving to suppress this warning.\n",
      "Lossy conversion from float64 to uint8. Range [0, 1]. Convert image to uint8 prior to saving to suppress this warning.\n",
      "Lossy conversion from float64 to uint8. Range [0, 1]. Convert image to uint8 prior to saving to suppress this warning.\n"
     ]
    },
    {
     "name": "stdout",
     "output_type": "stream",
     "text": [
      " (2048, 2048)\n",
      "\t\t 0.27898427925857844\n",
      "nice_images/Fas3_1_3_1_2.\n",
      "\t\t 0.18954743030024512\n",
      "nice_images/Fas3_1_3_1_3.\n",
      "\t\t 0.26521534639246325\n",
      "nice_images/Fas3_1_3_2_1.\n",
      "\t\t 0.3022822361366421\n",
      "nice_images/Fas3_1_3_2_2.\n",
      "\t\t 0.2299463010301777\n",
      "nice_images/Fas3_1_3_2_3.\n",
      "\t\t 0.15478784897748163\n",
      "nice_images/Fas3_1_3_2_4.\n",
      "\t\t 0.30613630706188727\n",
      "nice_images/Fas3_1_3_3_1.\n",
      "\t\t 0.27092452703737746\n",
      "nice_images/Fas3_1_3_3_2.\n",
      "\t\t 0.22808867809819242\n",
      "nice_images/Fas3_1_3_3_3.\n",
      "\t\t 0.19684226840150124\n",
      "nice_images/Fas3_1_3_3_4.\n",
      "\t\t 0.17180457021675857\n",
      "nice_images/Fas3_1_3_3_5.\n",
      "\t\t"
     ]
    },
    {
     "name": "stderr",
     "output_type": "stream",
     "text": [
      "Lossy conversion from float64 to uint8. Range [0, 1]. Convert image to uint8 prior to saving to suppress this warning.\n",
      "Lossy conversion from float64 to uint8. Range [0, 1]. Convert image to uint8 prior to saving to suppress this warning.\n",
      "Lossy conversion from float64 to uint8. Range [0, 1]. Convert image to uint8 prior to saving to suppress this warning.\n",
      "Lossy conversion from float64 to uint8. Range [0, 1]. Convert image to uint8 prior to saving to suppress this warning.\n",
      "Lossy conversion from float64 to uint8. Range [0, 1]. Convert image to uint8 prior to saving to suppress this warning.\n",
      "Lossy conversion from float64 to uint8. Range [0, 1]. Convert image to uint8 prior to saving to suppress this warning.\n",
      "Lossy conversion from float64 to uint8. Range [0, 1]. Convert image to uint8 prior to saving to suppress this warning.\n",
      "Lossy conversion from float64 to uint8. Range [0, 1]. Convert image to uint8 prior to saving to suppress this warning.\n",
      "Lossy conversion from float64 to uint8. Range [0, 1]. Convert image to uint8 prior to saving to suppress this warning.\n"
     ]
    },
    {
     "name": "stdout",
     "output_type": "stream",
     "text": [
      " 0.2879237156288296\n",
      "nice_images/Fas3_1_3_4_1.\n",
      "\t\t 0.2991914636948529\n",
      "nice_images/Fas3_1_3_4_2.\n",
      "\t\t 0.26501273360906863\n",
      "nice_images/Fas3_1_3_4_3.\n",
      "\t\t 0.30455890730315566\n",
      "nice_images/Fas3_1_3_4_4.\n",
      "\t\t 0.22162960276884192\n",
      "nice_images/Fas3_1_3_4_5.\n",
      "\t\t 0.16722705317478553\n",
      "nice_images/Fas3_1_3_4_6.\n",
      "\t\t 0.19933669146369484\n",
      "nice_images/Fas3_1_3_5_4.\n",
      "\t\t 0.28992040297564337\n",
      "nice_images/Fas3_1_3_5_5.\n",
      "\t\t 0.23050866220511643\n",
      "nice_images/Fas3_1_3_5_6.\n",
      "\t\t"
     ]
    },
    {
     "name": "stderr",
     "output_type": "stream",
     "text": [
      "Lossy conversion from float64 to uint8. Range [0, 1]. Convert image to uint8 prior to saving to suppress this warning.\n"
     ]
    },
    {
     "name": "stdout",
     "output_type": "stream",
     "text": [
      " 0.22862459070542282\n",
      "nice_images/Fas3_1_3_5_7.\n"
     ]
    }
   ],
   "source": [
    "y_scaler = 8\n",
    "x_scaler = 8\n",
    "\n",
    "for file in walker():\n",
    "    print(file)\n",
    "    img_name = file.split(\"/\")[-1]\n",
    "    img_name = img_name.split(\".\")[0]\n",
    "    print(img_name)\n",
    "    img = rgb2gray(imread(file))\n",
    "#     img = imread(file)\n",
    "    print(\"\\t\", img.shape)\n",
    "    width, height = int(img.shape[0] / x_scaler), int(img.shape[1] / x_scaler)\n",
    "    for i in range(y_scaler):\n",
    "        for j in range(x_scaler):\n",
    "            img_mean = np.mean(img[i*height:(i+1)*height, j*width:(j+1)*width])\n",
    "            if img_mean > 0.14:\n",
    "                print(\"\\t\\t\", np.mean(img[i*height:(i+1)*height, j*width:(j+1)*width]))\n",
    "                print(\"nice_images/\" + f\"{img_name}_{i}_{j}.\")\n",
    "                imsave(f\"nice_images_{int(2048/x_scaler)}/\" + f\"{img_name}_{i}_{j}.png\", img[i*height:(i+1)*height, j*width:(j+1)*width])\n",
    "#     print(np.mean(img))"
   ]
  },
  {
   "cell_type": "code",
   "execution_count": null,
   "id": "9015ed72",
   "metadata": {},
   "outputs": [],
   "source": []
  }
 ],
 "metadata": {
  "kernelspec": {
   "display_name": "Python 3",
   "language": "python",
   "name": "python3"
  },
  "language_info": {
   "codemirror_mode": {
    "name": "ipython",
    "version": 3
   },
   "file_extension": ".py",
   "mimetype": "text/x-python",
   "name": "python",
   "nbconvert_exporter": "python",
   "pygments_lexer": "ipython3",
   "version": "3.8.2"
  },
  "latex_envs": {
   "LaTeX_envs_menu_present": true,
   "autoclose": false,
   "autocomplete": true,
   "bibliofile": "biblio.bib",
   "cite_by": "apalike",
   "current_citInitial": 1,
   "eqLabelWithNumbers": true,
   "eqNumInitial": 1,
   "hotkeys": {
    "equation": "Ctrl-E",
    "itemize": "Ctrl-I"
   },
   "labels_anchors": false,
   "latex_user_defs": false,
   "report_style_numbering": false,
   "user_envs_cfg": false
  }
 },
 "nbformat": 4,
 "nbformat_minor": 5
}
