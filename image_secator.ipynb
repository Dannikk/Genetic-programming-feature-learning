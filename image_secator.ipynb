{
 "cells": [
  {
   "cell_type": "code",
   "execution_count": 1,
   "id": "0a056e00",
   "metadata": {},
   "outputs": [],
   "source": [
    "import matplotlib.pyplot as plt\n",
    "import numpy as np\n",
    "from imageio import imread, imsave\n",
    "from skimage.color import rgb2gray\n",
    "import cv2\n",
    "import os\n",
    "import numpy as np"
   ]
  },
  {
   "cell_type": "code",
   "execution_count": 2,
   "id": "93e900f3",
   "metadata": {},
   "outputs": [],
   "source": [
    "def walker(source = \"./images\"):\n",
    "    for link, dirs, files in list(os.walk(source)):\n",
    "        for file in files:\n",
    "            yield link + '//' + file"
   ]
  },
  {
   "cell_type": "code",
   "execution_count": 7,
   "id": "2bca7f98",
   "metadata": {},
   "outputs": [
    {
     "name": "stderr",
     "output_type": "stream",
     "text": [
      "Lossy conversion from float64 to uint8. Range [0, 1]. Convert image to uint8 prior to saving to suppress this warning.\n",
      "Lossy conversion from float64 to uint8. Range [0, 1]. Convert image to uint8 prior to saving to suppress this warning.\n"
     ]
    },
    {
     "name": "stdout",
     "output_type": "stream",
     "text": [
      "./images//Fas3_1_1.tif\n",
      "Fas3_1_1\n",
      "\t (2048, 2048)\n",
      "\t\t 0.20603453692267923\n",
      "nice_images/Fas3_1_1_1_1.\n",
      "\t\t 0.1909593320360371\n",
      "nice_images/Fas3_1_1_2_1.\n",
      "\t\t"
     ]
    },
    {
     "name": "stderr",
     "output_type": "stream",
     "text": [
      "Lossy conversion from float64 to uint8. Range [0, 1]. Convert image to uint8 prior to saving to suppress this warning.\n",
      "Lossy conversion from float64 to uint8. Range [0, 1]. Convert image to uint8 prior to saving to suppress this warning.\n"
     ]
    },
    {
     "name": "stdout",
     "output_type": "stream",
     "text": [
      " 0.25051799100988054\n",
      "nice_images/Fas3_1_1_2_2.\n",
      "\t\t 0.14334345798866424\n",
      "nice_images/Fas3_1_1_2_3.\n",
      "./images//Fas3_1_2.tif\n",
      "Fas3_1_2\n",
      "\t (2048, 2048)\n",
      "\t\t 0.16413038665173102\n",
      "nice_images/Fas3_1_2_1_0.\n"
     ]
    },
    {
     "name": "stderr",
     "output_type": "stream",
     "text": [
      "Lossy conversion from float64 to uint8. Range [0, 1]. Convert image to uint8 prior to saving to suppress this warning.\n",
      "Lossy conversion from float64 to uint8. Range [0, 1]. Convert image to uint8 prior to saving to suppress this warning.\n",
      "Lossy conversion from float64 to uint8. Range [0, 1]. Convert image to uint8 prior to saving to suppress this warning.\n",
      "Lossy conversion from float64 to uint8. Range [0, 1]. Convert image to uint8 prior to saving to suppress this warning.\n",
      "Lossy conversion from float64 to uint8. Range [0, 1]. Convert image to uint8 prior to saving to suppress this warning.\n"
     ]
    },
    {
     "name": "stdout",
     "output_type": "stream",
     "text": [
      "\t\t 0.2579700993556602\n",
      "nice_images/Fas3_1_2_1_1.\n",
      "\t\t 0.19069358975279568\n",
      "nice_images/Fas3_1_2_2_1.\n",
      "\t\t 0.26168542001761635\n",
      "nice_images/Fas3_1_2_2_2.\n",
      "\t\t 0.16894870832854628\n",
      "nice_images/Fas3_1_2_2_3.\n",
      "./images//Fas3_1_3.tif\n",
      "Fas3_1_3\n"
     ]
    },
    {
     "name": "stderr",
     "output_type": "stream",
     "text": [
      "Lossy conversion from float64 to uint8. Range [0, 1]. Convert image to uint8 prior to saving to suppress this warning.\n",
      "Lossy conversion from float64 to uint8. Range [0, 1]. Convert image to uint8 prior to saving to suppress this warning.\n",
      "Lossy conversion from float64 to uint8. Range [0, 1]. Convert image to uint8 prior to saving to suppress this warning.\n",
      "Lossy conversion from float64 to uint8. Range [0, 1]. Convert image to uint8 prior to saving to suppress this warning.\n",
      "Lossy conversion from float64 to uint8. Range [0, 1]. Convert image to uint8 prior to saving to suppress this warning.\n"
     ]
    },
    {
     "name": "stdout",
     "output_type": "stream",
     "text": [
      "\t (2048, 2048)\n",
      "\t\t 0.17196339625938267\n",
      "nice_images/Fas3_1_3_1_0.\n",
      "\t\t 0.2578104355755974\n",
      "nice_images/Fas3_1_3_1_1.\n",
      "\t\t 0.18730688656077665\n",
      "nice_images/Fas3_1_3_2_1.\n",
      "\t\t 0.2538614011278339\n",
      "nice_images/Fas3_1_3_2_2.\n",
      "\t\t 0.17112419278013943\n",
      "nice_images/Fas3_1_3_2_3.\n"
     ]
    }
   ],
   "source": [
    "y_scaler = 4\n",
    "x_scaler = 4\n",
    "\n",
    "for file in walker():\n",
    "    print(file)\n",
    "    img_name = file.split(\"/\")[-1]\n",
    "    img_name = img_name.split(\".\")[0]\n",
    "    print(img_name)\n",
    "    img = rgb2gray(imread(file))\n",
    "#     img = imread(file)\n",
    "    print(\"\\t\", img.shape)\n",
    "    width, height = int(img.shape[0] / x_scaler), int(img.shape[1] / x_scaler)\n",
    "    for i in range(y_scaler):\n",
    "        for j in range(x_scaler):\n",
    "            img_mean = np.mean(img[i*height:(i+1)*height, j*width:(j+1)*width])\n",
    "            if img_mean > 0.14:\n",
    "                print(\"\\t\\t\", np.mean(img[i*height:(i+1)*height, j*width:(j+1)*width]))\n",
    "                print(\"nice_images/\" + f\"{img_name}_{i}_{j}.\")\n",
    "                imsave(\"nice_images/\" + f\"{img_name}_{i}_{j}.png\", img[i*height:(i+1)*height, j*width:(j+1)*width])\n",
    "#     print(np.mean(img))"
   ]
  },
  {
   "cell_type": "code",
   "execution_count": null,
   "id": "9015ed72",
   "metadata": {},
   "outputs": [],
   "source": []
  }
 ],
 "metadata": {
  "kernelspec": {
   "display_name": "Python 3",
   "language": "python",
   "name": "python3"
  },
  "language_info": {
   "codemirror_mode": {
    "name": "ipython",
    "version": 3
   },
   "file_extension": ".py",
   "mimetype": "text/x-python",
   "name": "python",
   "nbconvert_exporter": "python",
   "pygments_lexer": "ipython3",
   "version": "3.8.2"
  },
  "latex_envs": {
   "LaTeX_envs_menu_present": true,
   "autoclose": false,
   "autocomplete": true,
   "bibliofile": "biblio.bib",
   "cite_by": "apalike",
   "current_citInitial": 1,
   "eqLabelWithNumbers": true,
   "eqNumInitial": 1,
   "hotkeys": {
    "equation": "Ctrl-E",
    "itemize": "Ctrl-I"
   },
   "labels_anchors": false,
   "latex_user_defs": false,
   "report_style_numbering": false,
   "user_envs_cfg": false
  }
 },
 "nbformat": 4,
 "nbformat_minor": 5
}
